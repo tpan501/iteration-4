{
 "cells": [
  {
   "cell_type": "code",
   "execution_count": 1,
   "id": "87ec3bd0",
   "metadata": {
    "scrolled": true
   },
   "outputs": [
    {
     "name": "stderr",
     "output_type": "stream",
     "text": [
      "WARNING: An illegal reflective access operation has occurred\n",
      "WARNING: Illegal reflective access by org.apache.spark.unsafe.Platform (file:/home/ubuntu/spark-3.2.1-bin-hadoop2.7/jars/spark-unsafe_2.12-3.2.1.jar) to constructor java.nio.DirectByteBuffer(long,int)\n",
      "WARNING: Please consider reporting this to the maintainers of org.apache.spark.unsafe.Platform\n",
      "WARNING: Use --illegal-access=warn to enable warnings of further illegal reflective access operations\n",
      "WARNING: All illegal access operations will be denied in a future release\n",
      "Using Spark's default log4j profile: org/apache/spark/log4j-defaults.properties\n",
      "Setting default log level to \"WARN\".\n",
      "To adjust logging level use sc.setLogLevel(newLevel). For SparkR, use setLogLevel(newLevel).\n",
      "23/10/01 21:55:57 WARN NativeCodeLoader: Unable to load native-hadoop library for your platform... using builtin-java classes where applicable\n"
     ]
    }
   ],
   "source": [
    "# Must be included at the beginning of each new notebook. Remember to change the app name.\n",
    "import findspark\n",
    "findspark.init('/home/ubuntu/spark-3.2.1-bin-hadoop2.7')\n",
    "import pyspark\n",
    "from pyspark.sql import SparkSession\n",
    "spark = SparkSession.builder.appName('basics').getOrCreate()"
   ]
  },
  {
   "cell_type": "markdown",
   "id": "f7705d87",
   "metadata": {},
   "source": [
    "# Data preparation"
   ]
  },
  {
   "cell_type": "code",
   "execution_count": 3,
   "id": "6640c316",
   "metadata": {},
   "outputs": [],
   "source": [
    "file = 'access-drinking-water-stacked.csv'\n",
    "access_drinking = spark.read.csv(file)\n",
    "file2 = 'death-rates-unsafe-water.csv'\n",
    "death_rates_unsafe_water = spark.read.csv(file2)\n",
    "file3 = 'share-deaths-unsafe-water.csv'\n",
    "death_share_unsafe_water = spark.read.csv(file3)\n",
    "file4 =  'deaths-from-diarrheal-diseases-who.csv'\n",
    "death_from_diarrheal_disease = spark.read.csv(file4)\n",
    "file5 = 'historical-gov-spending-gdp.csv'\n",
    "gov_spending = spark.read.csv(file5)\n",
    "file6 = 'improved-water-sources-vs-gdp-per-capita.csv'\n",
    "improved_water_sources_vs_gdp = spark.read.csv(file6)\n",
    "file7 = 'number-without-improved-water.csv'\n",
    "number_without_improved_water = spark.read.csv(file7)\n",
    "file8 = 'number-without-safe-drinking-water.csv'\n",
    "number_without_safe_drinking_water = spark.read.csv(file8)\n",
    "file9= 'people-practicing-open-defecation-of-population.csv'\n",
    "open_defecation = spark.read.csv(file9)\n",
    "file10 = 'physicians-per-1000-people.csv'\n",
    "physicians_number = spark.read.csv(file10)\n",
    "file11 = 'public-healthcare-spending-share-gdp.csv'\n",
    "healthcare_spending = spark.read.csv(file11)\n",
    "file12 = 'public-health-expenditure-share-GDP-OWID.csv'\n",
    "health_expenditure_share_GDP = spark.read.csv(file12)\n",
    "file13 = 'healthcare-expenditure-vs-gdp.csv'\n",
    "healthcare_expenditure_vs_GDP = spark.read.csv(file13)\n",
    "file14 = 'water-bodies-good-water-quality.csv'\n",
    "water_bodies_quality = spark.read.csv(file14)"
   ]
  },
  {
   "cell_type": "code",
   "execution_count": null,
   "id": "af45459b",
   "metadata": {},
   "outputs": [],
   "source": []
  }
 ],
 "metadata": {
  "kernelspec": {
   "display_name": "Python 3 (ipykernel)",
   "language": "python",
   "name": "python3"
  },
  "language_info": {
   "codemirror_mode": {
    "name": "ipython",
    "version": 3
   },
   "file_extension": ".py",
   "mimetype": "text/x-python",
   "name": "python",
   "nbconvert_exporter": "python",
   "pygments_lexer": "ipython3",
   "version": "3.10.12"
  }
 },
 "nbformat": 4,
 "nbformat_minor": 5
}
